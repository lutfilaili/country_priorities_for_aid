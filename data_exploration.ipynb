{
 "cells": [
  {
   "cell_type": "markdown",
   "metadata": {},
   "source": [
    "## **Data Exploratory**"
   ]
  },
  {
   "cell_type": "code",
   "execution_count": 2,
   "metadata": {},
   "outputs": [
    {
     "data": {
      "text/html": [
       "<div>\n",
       "<style scoped>\n",
       "    .dataframe tbody tr th:only-of-type {\n",
       "        vertical-align: middle;\n",
       "    }\n",
       "\n",
       "    .dataframe tbody tr th {\n",
       "        vertical-align: top;\n",
       "    }\n",
       "\n",
       "    .dataframe thead th {\n",
       "        text-align: right;\n",
       "    }\n",
       "</style>\n",
       "<table border=\"1\" class=\"dataframe\">\n",
       "  <thead>\n",
       "    <tr style=\"text-align: right;\">\n",
       "      <th></th>\n",
       "      <th>country</th>\n",
       "      <th>child_mort</th>\n",
       "      <th>exports</th>\n",
       "      <th>health</th>\n",
       "      <th>imports</th>\n",
       "      <th>income</th>\n",
       "      <th>inflation</th>\n",
       "      <th>life_expec</th>\n",
       "      <th>total_fer</th>\n",
       "      <th>gdpp</th>\n",
       "    </tr>\n",
       "  </thead>\n",
       "  <tbody>\n",
       "    <tr>\n",
       "      <th>0</th>\n",
       "      <td>Afghanistan</td>\n",
       "      <td>90.2</td>\n",
       "      <td>10.0</td>\n",
       "      <td>7.58</td>\n",
       "      <td>44.9</td>\n",
       "      <td>1610</td>\n",
       "      <td>9.44</td>\n",
       "      <td>56.2</td>\n",
       "      <td>5.82</td>\n",
       "      <td>553</td>\n",
       "    </tr>\n",
       "    <tr>\n",
       "      <th>1</th>\n",
       "      <td>Albania</td>\n",
       "      <td>16.6</td>\n",
       "      <td>28.0</td>\n",
       "      <td>6.55</td>\n",
       "      <td>48.6</td>\n",
       "      <td>9930</td>\n",
       "      <td>4.49</td>\n",
       "      <td>76.3</td>\n",
       "      <td>1.65</td>\n",
       "      <td>4090</td>\n",
       "    </tr>\n",
       "    <tr>\n",
       "      <th>2</th>\n",
       "      <td>Algeria</td>\n",
       "      <td>27.3</td>\n",
       "      <td>38.4</td>\n",
       "      <td>4.17</td>\n",
       "      <td>31.4</td>\n",
       "      <td>12900</td>\n",
       "      <td>16.10</td>\n",
       "      <td>76.5</td>\n",
       "      <td>2.89</td>\n",
       "      <td>4460</td>\n",
       "    </tr>\n",
       "    <tr>\n",
       "      <th>3</th>\n",
       "      <td>Angola</td>\n",
       "      <td>119.0</td>\n",
       "      <td>62.3</td>\n",
       "      <td>2.85</td>\n",
       "      <td>42.9</td>\n",
       "      <td>5900</td>\n",
       "      <td>22.40</td>\n",
       "      <td>60.1</td>\n",
       "      <td>6.16</td>\n",
       "      <td>3530</td>\n",
       "    </tr>\n",
       "    <tr>\n",
       "      <th>4</th>\n",
       "      <td>Antigua and Barbuda</td>\n",
       "      <td>10.3</td>\n",
       "      <td>45.5</td>\n",
       "      <td>6.03</td>\n",
       "      <td>58.9</td>\n",
       "      <td>19100</td>\n",
       "      <td>1.44</td>\n",
       "      <td>76.8</td>\n",
       "      <td>2.13</td>\n",
       "      <td>12200</td>\n",
       "    </tr>\n",
       "    <tr>\n",
       "      <th>...</th>\n",
       "      <td>...</td>\n",
       "      <td>...</td>\n",
       "      <td>...</td>\n",
       "      <td>...</td>\n",
       "      <td>...</td>\n",
       "      <td>...</td>\n",
       "      <td>...</td>\n",
       "      <td>...</td>\n",
       "      <td>...</td>\n",
       "      <td>...</td>\n",
       "    </tr>\n",
       "    <tr>\n",
       "      <th>162</th>\n",
       "      <td>Vanuatu</td>\n",
       "      <td>29.2</td>\n",
       "      <td>46.6</td>\n",
       "      <td>5.25</td>\n",
       "      <td>52.7</td>\n",
       "      <td>2950</td>\n",
       "      <td>2.62</td>\n",
       "      <td>63.0</td>\n",
       "      <td>3.50</td>\n",
       "      <td>2970</td>\n",
       "    </tr>\n",
       "    <tr>\n",
       "      <th>163</th>\n",
       "      <td>Venezuela</td>\n",
       "      <td>17.1</td>\n",
       "      <td>28.5</td>\n",
       "      <td>4.91</td>\n",
       "      <td>17.6</td>\n",
       "      <td>16500</td>\n",
       "      <td>45.90</td>\n",
       "      <td>75.4</td>\n",
       "      <td>2.47</td>\n",
       "      <td>13500</td>\n",
       "    </tr>\n",
       "    <tr>\n",
       "      <th>164</th>\n",
       "      <td>Vietnam</td>\n",
       "      <td>23.3</td>\n",
       "      <td>72.0</td>\n",
       "      <td>6.84</td>\n",
       "      <td>80.2</td>\n",
       "      <td>4490</td>\n",
       "      <td>12.10</td>\n",
       "      <td>73.1</td>\n",
       "      <td>1.95</td>\n",
       "      <td>1310</td>\n",
       "    </tr>\n",
       "    <tr>\n",
       "      <th>165</th>\n",
       "      <td>Yemen</td>\n",
       "      <td>56.3</td>\n",
       "      <td>30.0</td>\n",
       "      <td>5.18</td>\n",
       "      <td>34.4</td>\n",
       "      <td>4480</td>\n",
       "      <td>23.60</td>\n",
       "      <td>67.5</td>\n",
       "      <td>4.67</td>\n",
       "      <td>1310</td>\n",
       "    </tr>\n",
       "    <tr>\n",
       "      <th>166</th>\n",
       "      <td>Zambia</td>\n",
       "      <td>83.1</td>\n",
       "      <td>37.0</td>\n",
       "      <td>5.89</td>\n",
       "      <td>30.9</td>\n",
       "      <td>3280</td>\n",
       "      <td>14.00</td>\n",
       "      <td>52.0</td>\n",
       "      <td>5.40</td>\n",
       "      <td>1460</td>\n",
       "    </tr>\n",
       "  </tbody>\n",
       "</table>\n",
       "<p>167 rows × 10 columns</p>\n",
       "</div>"
      ],
      "text/plain": [
       "                 country  child_mort  exports  health  imports  income  \\\n",
       "0            Afghanistan        90.2     10.0    7.58     44.9    1610   \n",
       "1                Albania        16.6     28.0    6.55     48.6    9930   \n",
       "2                Algeria        27.3     38.4    4.17     31.4   12900   \n",
       "3                 Angola       119.0     62.3    2.85     42.9    5900   \n",
       "4    Antigua and Barbuda        10.3     45.5    6.03     58.9   19100   \n",
       "..                   ...         ...      ...     ...      ...     ...   \n",
       "162              Vanuatu        29.2     46.6    5.25     52.7    2950   \n",
       "163            Venezuela        17.1     28.5    4.91     17.6   16500   \n",
       "164              Vietnam        23.3     72.0    6.84     80.2    4490   \n",
       "165                Yemen        56.3     30.0    5.18     34.4    4480   \n",
       "166               Zambia        83.1     37.0    5.89     30.9    3280   \n",
       "\n",
       "     inflation  life_expec  total_fer   gdpp  \n",
       "0         9.44        56.2       5.82    553  \n",
       "1         4.49        76.3       1.65   4090  \n",
       "2        16.10        76.5       2.89   4460  \n",
       "3        22.40        60.1       6.16   3530  \n",
       "4         1.44        76.8       2.13  12200  \n",
       "..         ...         ...        ...    ...  \n",
       "162       2.62        63.0       3.50   2970  \n",
       "163      45.90        75.4       2.47  13500  \n",
       "164      12.10        73.1       1.95   1310  \n",
       "165      23.60        67.5       4.67   1310  \n",
       "166      14.00        52.0       5.40   1460  \n",
       "\n",
       "[167 rows x 10 columns]"
      ]
     },
     "execution_count": 2,
     "metadata": {},
     "output_type": "execute_result"
    }
   ],
   "source": [
    "import pandas as pd\n",
    "from sklearn.preprocessing import StandardScaler\n",
    "from sklearn.cluster import KMeans\n",
    "\n",
    "df = pd.read_csv('countries_data.csv')\n",
    "df"
   ]
  },
  {
   "cell_type": "code",
   "execution_count": 6,
   "metadata": {},
   "outputs": [
    {
     "data": {
      "application/vnd.plotly.v1+json": {
       "config": {
        "plotlyServerURL": "https://plot.ly"
       },
       "data": [
        {
         "hovertemplate": "Imports=%{x}<br>Income=%{y}<br>gdpp=%{marker.color}<extra></extra>",
         "legendgroup": "",
         "marker": {
          "color": [
           553,
           4090,
           4460,
           3530,
           12200,
           10300,
           3220,
           51900,
           46900,
           5840,
           28000,
           20700,
           758,
           16000,
           6030,
           44400,
           4340,
           758,
           2180,
           1980,
           4610,
           6350,
           11200,
           35300,
           6840,
           575,
           231,
           786,
           1310,
           47400,
           3310,
           446,
           897,
           12900,
           4560,
           6250,
           769,
           334,
           2740,
           8200,
           1220,
           13500,
           30800,
           19800,
           58000,
           5450,
           4660,
           2600,
           2990,
           17100,
           482,
           14600,
           3650,
           46200,
           40600,
           8750,
           562,
           2960,
           41800,
           1310,
           26900,
           7370,
           2830,
           648,
           547,
           3040,
           662,
           13100,
           41900,
           1350,
           3110,
           6530,
           4500,
           48700,
           30600,
           35800,
           4680,
           44500,
           3680,
           9070,
           967,
           1490,
           38500,
           880,
           1140,
           11300,
           8860,
           1170,
           327,
           12100,
           12000,
           105000,
           4540,
           413,
           459,
           9070,
           7100,
           708,
           21100,
           1200,
           8000,
           2860,
           1630,
           2650,
           6680,
           2830,
           419,
           988,
           5190,
           592,
           50300,
           33700,
           348,
           2330,
           87800,
           19300,
           1040,
           8080,
           3230,
           5020,
           2130,
           12600,
           22500,
           70300,
           8230,
           10700,
           563,
           3450,
           19300,
           1000,
           5410,
           10800,
           399,
           46600,
           16600,
           23400,
           1290,
           7280,
           22100,
           30700,
           2810,
           6230,
           1480,
           8300,
           52100,
           74600,
           738,
           702,
           5080,
           3600,
           488,
           3550,
           4140,
           10700,
           4440,
           595,
           2970,
           35000,
           38900,
           48400,
           11900,
           1380,
           2970,
           13500,
           1310,
           1310,
           1460
          ],
          "coloraxis": "coloraxis",
          "symbol": "circle"
         },
         "mode": "markers",
         "name": "",
         "orientation": "v",
         "showlegend": false,
         "type": "scatter",
         "x": [
          44.9,
          48.6,
          31.4,
          42.9,
          58.9,
          16,
          45.3,
          20.9,
          47.8,
          20.7,
          43.7,
          50.9,
          21.8,
          48.7,
          64.5,
          74.7,
          57.5,
          37.2,
          70.7,
          34.3,
          51.3,
          51.3,
          11.8,
          28,
          53,
          29.6,
          39.2,
          59.5,
          27,
          31,
          61.8,
          26.5,
          43.5,
          31.3,
          22.6,
          17.8,
          51.7,
          49.6,
          54.7,
          35,
          43.3,
          38.1,
          57.5,
          62.9,
          43.6,
          33.3,
          32.4,
          26.6,
          46.6,
          58.9,
          23.3,
          68.7,
          63.9,
          37.4,
          28.1,
          18.9,
          42.7,
          52.8,
          37.1,
          45.9,
          30.7,
          49.2,
          36.3,
          43.2,
          35.2,
          79.1,
          64.7,
          76.5,
          43.3,
          27.1,
          22.4,
          19.4,
          34.1,
          86.5,
          32.9,
          27.2,
          49.6,
          13.6,
          69,
          29.9,
          33.6,
          79.9,
          30.4,
          81.7,
          49.3,
          55.1,
          60.2,
          101,
          92.6,
          42.1,
          67.2,
          142,
          58.1,
          43,
          34.9,
          71,
          65.4,
          35.1,
          154,
          61.2,
          62.2,
          81,
          78.5,
          56.7,
          62.7,
          43,
          46.2,
          0.0659,
          60.7,
          36.4,
          63.6,
          28,
          49.1,
          17.4,
          28.5,
          41.2,
          19.4,
          78.2,
          51.5,
          23.8,
          36.6,
          42.1,
          37.4,
          23.8,
          38.8,
          21.1,
          30,
          53.1,
          33,
          40.3,
          47.9,
          108,
          34.5,
          174,
          77.8,
          62.9,
          81.2,
          27.4,
          46.2,
          26.8,
          26.8,
          57.1,
          17.2,
          38.4,
          40.7,
          53.3,
          58.6,
          29.1,
          60.8,
          27.8,
          57.3,
          60.3,
          55.3,
          25.5,
          44.5,
          28.6,
          51.1,
          63.6,
          30.8,
          15.8,
          25.4,
          28.5,
          52.7,
          17.6,
          80.2,
          34.4,
          30.9
         ],
         "xaxis": "x",
         "y": [
          1610,
          9930,
          12900,
          5900,
          19100,
          18700,
          6700,
          41400,
          43200,
          16000,
          22900,
          41100,
          2440,
          15300,
          16200,
          41100,
          7880,
          1820,
          6420,
          5410,
          9720,
          13300,
          14500,
          80600,
          15300,
          1430,
          764,
          2520,
          2660,
          40700,
          5830,
          888,
          1930,
          19400,
          9530,
          10900,
          1410,
          609,
          5190,
          13000,
          2690,
          20100,
          33900,
          28300,
          44000,
          11100,
          9350,
          9860,
          7300,
          33700,
          1420,
          22700,
          7350,
          39800,
          36900,
          15400,
          1660,
          6730,
          40400,
          3060,
          28700,
          11200,
          6710,
          1190,
          1390,
          5840,
          1500,
          22300,
          38800,
          4410,
          8430,
          17400,
          12700,
          45700,
          29600,
          36200,
          8000,
          35800,
          9470,
          20100,
          2480,
          1730,
          75200,
          2790,
          3980,
          18300,
          16300,
          2380,
          700,
          29600,
          21100,
          91700,
          11400,
          1390,
          1030,
          21100,
          10500,
          1870,
          28300,
          3320,
          15900,
          3340,
          3910,
          7710,
          14000,
          6440,
          918,
          3720,
          8460,
          1990,
          45500,
          32300,
          814,
          5150,
          62300,
          45300,
          4280,
          15400,
          7290,
          9960,
          5600,
          21800,
          27200,
          125000,
          17800,
          23100,
          1350,
          5400,
          45400,
          2180,
          12700,
          20400,
          1220,
          72100,
          25200,
          28700,
          1780,
          12000,
          30400,
          32500,
          8560,
          9920,
          3370,
          14200,
          42900,
          55500,
          2110,
          2090,
          13500,
          1850,
          1210,
          4980,
          10400,
          18000,
          9940,
          1540,
          7820,
          57600,
          36200,
          49400,
          17100,
          4240,
          2950,
          16500,
          4490,
          4480,
          3280
         ],
         "yaxis": "y"
        }
       ],
       "layout": {
        "coloraxis": {
         "colorbar": {
          "title": {
           "text": "gdpp"
          }
         },
         "colorscale": [
          [
           0,
           "#0d0887"
          ],
          [
           0.1111111111111111,
           "#46039f"
          ],
          [
           0.2222222222222222,
           "#7201a8"
          ],
          [
           0.3333333333333333,
           "#9c179e"
          ],
          [
           0.4444444444444444,
           "#bd3786"
          ],
          [
           0.5555555555555556,
           "#d8576b"
          ],
          [
           0.6666666666666666,
           "#ed7953"
          ],
          [
           0.7777777777777778,
           "#fb9f3a"
          ],
          [
           0.8888888888888888,
           "#fdca26"
          ],
          [
           1,
           "#f0f921"
          ]
         ]
        },
        "legend": {
         "tracegroupgap": 0
        },
        "template": {
         "data": {
          "bar": [
           {
            "error_x": {
             "color": "#2a3f5f"
            },
            "error_y": {
             "color": "#2a3f5f"
            },
            "marker": {
             "line": {
              "color": "#E5ECF6",
              "width": 0.5
             },
             "pattern": {
              "fillmode": "overlay",
              "size": 10,
              "solidity": 0.2
             }
            },
            "type": "bar"
           }
          ],
          "barpolar": [
           {
            "marker": {
             "line": {
              "color": "#E5ECF6",
              "width": 0.5
             },
             "pattern": {
              "fillmode": "overlay",
              "size": 10,
              "solidity": 0.2
             }
            },
            "type": "barpolar"
           }
          ],
          "carpet": [
           {
            "aaxis": {
             "endlinecolor": "#2a3f5f",
             "gridcolor": "white",
             "linecolor": "white",
             "minorgridcolor": "white",
             "startlinecolor": "#2a3f5f"
            },
            "baxis": {
             "endlinecolor": "#2a3f5f",
             "gridcolor": "white",
             "linecolor": "white",
             "minorgridcolor": "white",
             "startlinecolor": "#2a3f5f"
            },
            "type": "carpet"
           }
          ],
          "choropleth": [
           {
            "colorbar": {
             "outlinewidth": 0,
             "ticks": ""
            },
            "type": "choropleth"
           }
          ],
          "contour": [
           {
            "colorbar": {
             "outlinewidth": 0,
             "ticks": ""
            },
            "colorscale": [
             [
              0,
              "#0d0887"
             ],
             [
              0.1111111111111111,
              "#46039f"
             ],
             [
              0.2222222222222222,
              "#7201a8"
             ],
             [
              0.3333333333333333,
              "#9c179e"
             ],
             [
              0.4444444444444444,
              "#bd3786"
             ],
             [
              0.5555555555555556,
              "#d8576b"
             ],
             [
              0.6666666666666666,
              "#ed7953"
             ],
             [
              0.7777777777777778,
              "#fb9f3a"
             ],
             [
              0.8888888888888888,
              "#fdca26"
             ],
             [
              1,
              "#f0f921"
             ]
            ],
            "type": "contour"
           }
          ],
          "contourcarpet": [
           {
            "colorbar": {
             "outlinewidth": 0,
             "ticks": ""
            },
            "type": "contourcarpet"
           }
          ],
          "heatmap": [
           {
            "colorbar": {
             "outlinewidth": 0,
             "ticks": ""
            },
            "colorscale": [
             [
              0,
              "#0d0887"
             ],
             [
              0.1111111111111111,
              "#46039f"
             ],
             [
              0.2222222222222222,
              "#7201a8"
             ],
             [
              0.3333333333333333,
              "#9c179e"
             ],
             [
              0.4444444444444444,
              "#bd3786"
             ],
             [
              0.5555555555555556,
              "#d8576b"
             ],
             [
              0.6666666666666666,
              "#ed7953"
             ],
             [
              0.7777777777777778,
              "#fb9f3a"
             ],
             [
              0.8888888888888888,
              "#fdca26"
             ],
             [
              1,
              "#f0f921"
             ]
            ],
            "type": "heatmap"
           }
          ],
          "heatmapgl": [
           {
            "colorbar": {
             "outlinewidth": 0,
             "ticks": ""
            },
            "colorscale": [
             [
              0,
              "#0d0887"
             ],
             [
              0.1111111111111111,
              "#46039f"
             ],
             [
              0.2222222222222222,
              "#7201a8"
             ],
             [
              0.3333333333333333,
              "#9c179e"
             ],
             [
              0.4444444444444444,
              "#bd3786"
             ],
             [
              0.5555555555555556,
              "#d8576b"
             ],
             [
              0.6666666666666666,
              "#ed7953"
             ],
             [
              0.7777777777777778,
              "#fb9f3a"
             ],
             [
              0.8888888888888888,
              "#fdca26"
             ],
             [
              1,
              "#f0f921"
             ]
            ],
            "type": "heatmapgl"
           }
          ],
          "histogram": [
           {
            "marker": {
             "pattern": {
              "fillmode": "overlay",
              "size": 10,
              "solidity": 0.2
             }
            },
            "type": "histogram"
           }
          ],
          "histogram2d": [
           {
            "colorbar": {
             "outlinewidth": 0,
             "ticks": ""
            },
            "colorscale": [
             [
              0,
              "#0d0887"
             ],
             [
              0.1111111111111111,
              "#46039f"
             ],
             [
              0.2222222222222222,
              "#7201a8"
             ],
             [
              0.3333333333333333,
              "#9c179e"
             ],
             [
              0.4444444444444444,
              "#bd3786"
             ],
             [
              0.5555555555555556,
              "#d8576b"
             ],
             [
              0.6666666666666666,
              "#ed7953"
             ],
             [
              0.7777777777777778,
              "#fb9f3a"
             ],
             [
              0.8888888888888888,
              "#fdca26"
             ],
             [
              1,
              "#f0f921"
             ]
            ],
            "type": "histogram2d"
           }
          ],
          "histogram2dcontour": [
           {
            "colorbar": {
             "outlinewidth": 0,
             "ticks": ""
            },
            "colorscale": [
             [
              0,
              "#0d0887"
             ],
             [
              0.1111111111111111,
              "#46039f"
             ],
             [
              0.2222222222222222,
              "#7201a8"
             ],
             [
              0.3333333333333333,
              "#9c179e"
             ],
             [
              0.4444444444444444,
              "#bd3786"
             ],
             [
              0.5555555555555556,
              "#d8576b"
             ],
             [
              0.6666666666666666,
              "#ed7953"
             ],
             [
              0.7777777777777778,
              "#fb9f3a"
             ],
             [
              0.8888888888888888,
              "#fdca26"
             ],
             [
              1,
              "#f0f921"
             ]
            ],
            "type": "histogram2dcontour"
           }
          ],
          "mesh3d": [
           {
            "colorbar": {
             "outlinewidth": 0,
             "ticks": ""
            },
            "type": "mesh3d"
           }
          ],
          "parcoords": [
           {
            "line": {
             "colorbar": {
              "outlinewidth": 0,
              "ticks": ""
             }
            },
            "type": "parcoords"
           }
          ],
          "pie": [
           {
            "automargin": true,
            "type": "pie"
           }
          ],
          "scatter": [
           {
            "fillpattern": {
             "fillmode": "overlay",
             "size": 10,
             "solidity": 0.2
            },
            "type": "scatter"
           }
          ],
          "scatter3d": [
           {
            "line": {
             "colorbar": {
              "outlinewidth": 0,
              "ticks": ""
             }
            },
            "marker": {
             "colorbar": {
              "outlinewidth": 0,
              "ticks": ""
             }
            },
            "type": "scatter3d"
           }
          ],
          "scattercarpet": [
           {
            "marker": {
             "colorbar": {
              "outlinewidth": 0,
              "ticks": ""
             }
            },
            "type": "scattercarpet"
           }
          ],
          "scattergeo": [
           {
            "marker": {
             "colorbar": {
              "outlinewidth": 0,
              "ticks": ""
             }
            },
            "type": "scattergeo"
           }
          ],
          "scattergl": [
           {
            "marker": {
             "colorbar": {
              "outlinewidth": 0,
              "ticks": ""
             }
            },
            "type": "scattergl"
           }
          ],
          "scattermapbox": [
           {
            "marker": {
             "colorbar": {
              "outlinewidth": 0,
              "ticks": ""
             }
            },
            "type": "scattermapbox"
           }
          ],
          "scatterpolar": [
           {
            "marker": {
             "colorbar": {
              "outlinewidth": 0,
              "ticks": ""
             }
            },
            "type": "scatterpolar"
           }
          ],
          "scatterpolargl": [
           {
            "marker": {
             "colorbar": {
              "outlinewidth": 0,
              "ticks": ""
             }
            },
            "type": "scatterpolargl"
           }
          ],
          "scatterternary": [
           {
            "marker": {
             "colorbar": {
              "outlinewidth": 0,
              "ticks": ""
             }
            },
            "type": "scatterternary"
           }
          ],
          "surface": [
           {
            "colorbar": {
             "outlinewidth": 0,
             "ticks": ""
            },
            "colorscale": [
             [
              0,
              "#0d0887"
             ],
             [
              0.1111111111111111,
              "#46039f"
             ],
             [
              0.2222222222222222,
              "#7201a8"
             ],
             [
              0.3333333333333333,
              "#9c179e"
             ],
             [
              0.4444444444444444,
              "#bd3786"
             ],
             [
              0.5555555555555556,
              "#d8576b"
             ],
             [
              0.6666666666666666,
              "#ed7953"
             ],
             [
              0.7777777777777778,
              "#fb9f3a"
             ],
             [
              0.8888888888888888,
              "#fdca26"
             ],
             [
              1,
              "#f0f921"
             ]
            ],
            "type": "surface"
           }
          ],
          "table": [
           {
            "cells": {
             "fill": {
              "color": "#EBF0F8"
             },
             "line": {
              "color": "white"
             }
            },
            "header": {
             "fill": {
              "color": "#C8D4E3"
             },
             "line": {
              "color": "white"
             }
            },
            "type": "table"
           }
          ]
         },
         "layout": {
          "annotationdefaults": {
           "arrowcolor": "#2a3f5f",
           "arrowhead": 0,
           "arrowwidth": 1
          },
          "autotypenumbers": "strict",
          "coloraxis": {
           "colorbar": {
            "outlinewidth": 0,
            "ticks": ""
           }
          },
          "colorscale": {
           "diverging": [
            [
             0,
             "#8e0152"
            ],
            [
             0.1,
             "#c51b7d"
            ],
            [
             0.2,
             "#de77ae"
            ],
            [
             0.3,
             "#f1b6da"
            ],
            [
             0.4,
             "#fde0ef"
            ],
            [
             0.5,
             "#f7f7f7"
            ],
            [
             0.6,
             "#e6f5d0"
            ],
            [
             0.7,
             "#b8e186"
            ],
            [
             0.8,
             "#7fbc41"
            ],
            [
             0.9,
             "#4d9221"
            ],
            [
             1,
             "#276419"
            ]
           ],
           "sequential": [
            [
             0,
             "#0d0887"
            ],
            [
             0.1111111111111111,
             "#46039f"
            ],
            [
             0.2222222222222222,
             "#7201a8"
            ],
            [
             0.3333333333333333,
             "#9c179e"
            ],
            [
             0.4444444444444444,
             "#bd3786"
            ],
            [
             0.5555555555555556,
             "#d8576b"
            ],
            [
             0.6666666666666666,
             "#ed7953"
            ],
            [
             0.7777777777777778,
             "#fb9f3a"
            ],
            [
             0.8888888888888888,
             "#fdca26"
            ],
            [
             1,
             "#f0f921"
            ]
           ],
           "sequentialminus": [
            [
             0,
             "#0d0887"
            ],
            [
             0.1111111111111111,
             "#46039f"
            ],
            [
             0.2222222222222222,
             "#7201a8"
            ],
            [
             0.3333333333333333,
             "#9c179e"
            ],
            [
             0.4444444444444444,
             "#bd3786"
            ],
            [
             0.5555555555555556,
             "#d8576b"
            ],
            [
             0.6666666666666666,
             "#ed7953"
            ],
            [
             0.7777777777777778,
             "#fb9f3a"
            ],
            [
             0.8888888888888888,
             "#fdca26"
            ],
            [
             1,
             "#f0f921"
            ]
           ]
          },
          "colorway": [
           "#636efa",
           "#EF553B",
           "#00cc96",
           "#ab63fa",
           "#FFA15A",
           "#19d3f3",
           "#FF6692",
           "#B6E880",
           "#FF97FF",
           "#FECB52"
          ],
          "font": {
           "color": "#2a3f5f"
          },
          "geo": {
           "bgcolor": "white",
           "lakecolor": "white",
           "landcolor": "#E5ECF6",
           "showlakes": true,
           "showland": true,
           "subunitcolor": "white"
          },
          "hoverlabel": {
           "align": "left"
          },
          "hovermode": "closest",
          "mapbox": {
           "style": "light"
          },
          "paper_bgcolor": "white",
          "plot_bgcolor": "#E5ECF6",
          "polar": {
           "angularaxis": {
            "gridcolor": "white",
            "linecolor": "white",
            "ticks": ""
           },
           "bgcolor": "#E5ECF6",
           "radialaxis": {
            "gridcolor": "white",
            "linecolor": "white",
            "ticks": ""
           }
          },
          "scene": {
           "xaxis": {
            "backgroundcolor": "#E5ECF6",
            "gridcolor": "white",
            "gridwidth": 2,
            "linecolor": "white",
            "showbackground": true,
            "ticks": "",
            "zerolinecolor": "white"
           },
           "yaxis": {
            "backgroundcolor": "#E5ECF6",
            "gridcolor": "white",
            "gridwidth": 2,
            "linecolor": "white",
            "showbackground": true,
            "ticks": "",
            "zerolinecolor": "white"
           },
           "zaxis": {
            "backgroundcolor": "#E5ECF6",
            "gridcolor": "white",
            "gridwidth": 2,
            "linecolor": "white",
            "showbackground": true,
            "ticks": "",
            "zerolinecolor": "white"
           }
          },
          "shapedefaults": {
           "line": {
            "color": "#2a3f5f"
           }
          },
          "ternary": {
           "aaxis": {
            "gridcolor": "white",
            "linecolor": "white",
            "ticks": ""
           },
           "baxis": {
            "gridcolor": "white",
            "linecolor": "white",
            "ticks": ""
           },
           "bgcolor": "#E5ECF6",
           "caxis": {
            "gridcolor": "white",
            "linecolor": "white",
            "ticks": ""
           }
          },
          "title": {
           "x": 0.05
          },
          "xaxis": {
           "automargin": true,
           "gridcolor": "white",
           "linecolor": "white",
           "ticks": "",
           "title": {
            "standoff": 15
           },
           "zerolinecolor": "white",
           "zerolinewidth": 2
          },
          "yaxis": {
           "automargin": true,
           "gridcolor": "white",
           "linecolor": "white",
           "ticks": "",
           "title": {
            "standoff": 15
           },
           "zerolinecolor": "white",
           "zerolinewidth": 2
          }
         }
        },
        "title": {
         "text": "Plotting"
        },
        "xaxis": {
         "anchor": "y",
         "domain": [
          0,
          1
         ],
         "title": {
          "text": "Imports"
         }
        },
        "yaxis": {
         "anchor": "x",
         "domain": [
          0,
          1
         ],
         "title": {
          "text": "Income"
         }
        }
       }
      }
     },
     "metadata": {},
     "output_type": "display_data"
    }
   ],
   "source": [
    "from matplotlib import pyplot as plt\n",
    "import plotly.express as px\n",
    "\n",
    "# Create an interactive scatter plot\n",
    "fig = px.scatter(df, x='imports', y='income',\n",
    "                 title='Plotting',\n",
    "                 labels={'imports': 'Imports', 'income': 'Income'},\n",
    "                 color='gdpp',\n",
    "                 )\n",
    "\n",
    "fig.show()"
   ]
  },
  {
   "cell_type": "code",
   "execution_count": 7,
   "metadata": {},
   "outputs": [
    {
     "data": {
      "text/html": [
       "<div>\n",
       "<style scoped>\n",
       "    .dataframe tbody tr th:only-of-type {\n",
       "        vertical-align: middle;\n",
       "    }\n",
       "\n",
       "    .dataframe tbody tr th {\n",
       "        vertical-align: top;\n",
       "    }\n",
       "\n",
       "    .dataframe thead th {\n",
       "        text-align: right;\n",
       "    }\n",
       "</style>\n",
       "<table border=\"1\" class=\"dataframe\">\n",
       "  <thead>\n",
       "    <tr style=\"text-align: right;\">\n",
       "      <th></th>\n",
       "      <th>count</th>\n",
       "      <th>mean</th>\n",
       "      <th>std</th>\n",
       "      <th>min</th>\n",
       "      <th>25%</th>\n",
       "      <th>50%</th>\n",
       "      <th>75%</th>\n",
       "      <th>max</th>\n",
       "    </tr>\n",
       "  </thead>\n",
       "  <tbody>\n",
       "    <tr>\n",
       "      <th>child_mort</th>\n",
       "      <td>167.0</td>\n",
       "      <td>38.270060</td>\n",
       "      <td>40.328931</td>\n",
       "      <td>2.6000</td>\n",
       "      <td>8.250</td>\n",
       "      <td>19.30</td>\n",
       "      <td>62.10</td>\n",
       "      <td>208.00</td>\n",
       "    </tr>\n",
       "    <tr>\n",
       "      <th>exports</th>\n",
       "      <td>167.0</td>\n",
       "      <td>41.108976</td>\n",
       "      <td>27.412010</td>\n",
       "      <td>0.1090</td>\n",
       "      <td>23.800</td>\n",
       "      <td>35.00</td>\n",
       "      <td>51.35</td>\n",
       "      <td>200.00</td>\n",
       "    </tr>\n",
       "    <tr>\n",
       "      <th>health</th>\n",
       "      <td>167.0</td>\n",
       "      <td>6.815689</td>\n",
       "      <td>2.746837</td>\n",
       "      <td>1.8100</td>\n",
       "      <td>4.920</td>\n",
       "      <td>6.32</td>\n",
       "      <td>8.60</td>\n",
       "      <td>17.90</td>\n",
       "    </tr>\n",
       "    <tr>\n",
       "      <th>imports</th>\n",
       "      <td>167.0</td>\n",
       "      <td>46.890215</td>\n",
       "      <td>24.209589</td>\n",
       "      <td>0.0659</td>\n",
       "      <td>30.200</td>\n",
       "      <td>43.30</td>\n",
       "      <td>58.75</td>\n",
       "      <td>174.00</td>\n",
       "    </tr>\n",
       "    <tr>\n",
       "      <th>income</th>\n",
       "      <td>167.0</td>\n",
       "      <td>17144.688623</td>\n",
       "      <td>19278.067698</td>\n",
       "      <td>609.0000</td>\n",
       "      <td>3355.000</td>\n",
       "      <td>9960.00</td>\n",
       "      <td>22800.00</td>\n",
       "      <td>125000.00</td>\n",
       "    </tr>\n",
       "    <tr>\n",
       "      <th>inflation</th>\n",
       "      <td>167.0</td>\n",
       "      <td>7.781832</td>\n",
       "      <td>10.570704</td>\n",
       "      <td>-4.2100</td>\n",
       "      <td>1.810</td>\n",
       "      <td>5.39</td>\n",
       "      <td>10.75</td>\n",
       "      <td>104.00</td>\n",
       "    </tr>\n",
       "    <tr>\n",
       "      <th>life_expec</th>\n",
       "      <td>167.0</td>\n",
       "      <td>70.555689</td>\n",
       "      <td>8.893172</td>\n",
       "      <td>32.1000</td>\n",
       "      <td>65.300</td>\n",
       "      <td>73.10</td>\n",
       "      <td>76.80</td>\n",
       "      <td>82.80</td>\n",
       "    </tr>\n",
       "    <tr>\n",
       "      <th>total_fer</th>\n",
       "      <td>167.0</td>\n",
       "      <td>2.947964</td>\n",
       "      <td>1.513848</td>\n",
       "      <td>1.1500</td>\n",
       "      <td>1.795</td>\n",
       "      <td>2.41</td>\n",
       "      <td>3.88</td>\n",
       "      <td>7.49</td>\n",
       "    </tr>\n",
       "    <tr>\n",
       "      <th>gdpp</th>\n",
       "      <td>167.0</td>\n",
       "      <td>12964.155689</td>\n",
       "      <td>18328.704809</td>\n",
       "      <td>231.0000</td>\n",
       "      <td>1330.000</td>\n",
       "      <td>4660.00</td>\n",
       "      <td>14050.00</td>\n",
       "      <td>105000.00</td>\n",
       "    </tr>\n",
       "  </tbody>\n",
       "</table>\n",
       "</div>"
      ],
      "text/plain": [
       "            count          mean           std       min       25%      50%  \\\n",
       "child_mort  167.0     38.270060     40.328931    2.6000     8.250    19.30   \n",
       "exports     167.0     41.108976     27.412010    0.1090    23.800    35.00   \n",
       "health      167.0      6.815689      2.746837    1.8100     4.920     6.32   \n",
       "imports     167.0     46.890215     24.209589    0.0659    30.200    43.30   \n",
       "income      167.0  17144.688623  19278.067698  609.0000  3355.000  9960.00   \n",
       "inflation   167.0      7.781832     10.570704   -4.2100     1.810     5.39   \n",
       "life_expec  167.0     70.555689      8.893172   32.1000    65.300    73.10   \n",
       "total_fer   167.0      2.947964      1.513848    1.1500     1.795     2.41   \n",
       "gdpp        167.0  12964.155689  18328.704809  231.0000  1330.000  4660.00   \n",
       "\n",
       "                 75%        max  \n",
       "child_mort     62.10     208.00  \n",
       "exports        51.35     200.00  \n",
       "health          8.60      17.90  \n",
       "imports        58.75     174.00  \n",
       "income      22800.00  125000.00  \n",
       "inflation      10.75     104.00  \n",
       "life_expec     76.80      82.80  \n",
       "total_fer       3.88       7.49  \n",
       "gdpp        14050.00  105000.00  "
      ]
     },
     "execution_count": 7,
     "metadata": {},
     "output_type": "execute_result"
    }
   ],
   "source": [
    "df.describe().T"
   ]
  },
  {
   "cell_type": "code",
   "execution_count": 14,
   "metadata": {},
   "outputs": [
    {
     "data": {
      "text/html": [
       "<div>\n",
       "<style scoped>\n",
       "    .dataframe tbody tr th:only-of-type {\n",
       "        vertical-align: middle;\n",
       "    }\n",
       "\n",
       "    .dataframe tbody tr th {\n",
       "        vertical-align: top;\n",
       "    }\n",
       "\n",
       "    .dataframe thead th {\n",
       "        text-align: right;\n",
       "    }\n",
       "</style>\n",
       "<table border=\"1\" class=\"dataframe\">\n",
       "  <thead>\n",
       "    <tr style=\"text-align: right;\">\n",
       "      <th></th>\n",
       "      <th>child_mort</th>\n",
       "      <th>exports</th>\n",
       "      <th>health</th>\n",
       "      <th>imports</th>\n",
       "      <th>income</th>\n",
       "      <th>inflation</th>\n",
       "      <th>life_expec</th>\n",
       "      <th>total_fer</th>\n",
       "      <th>gdpp</th>\n",
       "    </tr>\n",
       "  </thead>\n",
       "  <tbody>\n",
       "    <tr>\n",
       "      <th>0</th>\n",
       "      <td>90.2</td>\n",
       "      <td>10.0</td>\n",
       "      <td>7.58</td>\n",
       "      <td>44.9</td>\n",
       "      <td>1610</td>\n",
       "      <td>9.44</td>\n",
       "      <td>56.2</td>\n",
       "      <td>5.82</td>\n",
       "      <td>553</td>\n",
       "    </tr>\n",
       "    <tr>\n",
       "      <th>1</th>\n",
       "      <td>16.6</td>\n",
       "      <td>28.0</td>\n",
       "      <td>6.55</td>\n",
       "      <td>48.6</td>\n",
       "      <td>9930</td>\n",
       "      <td>4.49</td>\n",
       "      <td>76.3</td>\n",
       "      <td>1.65</td>\n",
       "      <td>4090</td>\n",
       "    </tr>\n",
       "    <tr>\n",
       "      <th>2</th>\n",
       "      <td>27.3</td>\n",
       "      <td>38.4</td>\n",
       "      <td>4.17</td>\n",
       "      <td>31.4</td>\n",
       "      <td>12900</td>\n",
       "      <td>16.10</td>\n",
       "      <td>76.5</td>\n",
       "      <td>2.89</td>\n",
       "      <td>4460</td>\n",
       "    </tr>\n",
       "    <tr>\n",
       "      <th>3</th>\n",
       "      <td>119.0</td>\n",
       "      <td>62.3</td>\n",
       "      <td>2.85</td>\n",
       "      <td>42.9</td>\n",
       "      <td>5900</td>\n",
       "      <td>22.40</td>\n",
       "      <td>60.1</td>\n",
       "      <td>6.16</td>\n",
       "      <td>3530</td>\n",
       "    </tr>\n",
       "    <tr>\n",
       "      <th>4</th>\n",
       "      <td>10.3</td>\n",
       "      <td>45.5</td>\n",
       "      <td>6.03</td>\n",
       "      <td>58.9</td>\n",
       "      <td>19100</td>\n",
       "      <td>1.44</td>\n",
       "      <td>76.8</td>\n",
       "      <td>2.13</td>\n",
       "      <td>12200</td>\n",
       "    </tr>\n",
       "  </tbody>\n",
       "</table>\n",
       "</div>"
      ],
      "text/plain": [
       "   child_mort  exports  health  imports  income  inflation  life_expec  \\\n",
       "0        90.2     10.0    7.58     44.9    1610       9.44        56.2   \n",
       "1        16.6     28.0    6.55     48.6    9930       4.49        76.3   \n",
       "2        27.3     38.4    4.17     31.4   12900      16.10        76.5   \n",
       "3       119.0     62.3    2.85     42.9    5900      22.40        60.1   \n",
       "4        10.3     45.5    6.03     58.9   19100       1.44        76.8   \n",
       "\n",
       "   total_fer   gdpp  \n",
       "0       5.82    553  \n",
       "1       1.65   4090  \n",
       "2       2.89   4460  \n",
       "3       6.16   3530  \n",
       "4       2.13  12200  "
      ]
     },
     "execution_count": 14,
     "metadata": {},
     "output_type": "execute_result"
    }
   ],
   "source": [
    "# remove country from data\n",
    "df_r1 = df.drop('country', axis=1)\n",
    "df_r1.head()"
   ]
  },
  {
   "cell_type": "markdown",
   "metadata": {},
   "source": [
    "**Standardize the Value**<P>\n",
    "*using Standard Scaler*"
   ]
  },
  {
   "cell_type": "code",
   "execution_count": 16,
   "metadata": {},
   "outputs": [
    {
     "data": {
      "text/html": [
       "<div>\n",
       "<style scoped>\n",
       "    .dataframe tbody tr th:only-of-type {\n",
       "        vertical-align: middle;\n",
       "    }\n",
       "\n",
       "    .dataframe tbody tr th {\n",
       "        vertical-align: top;\n",
       "    }\n",
       "\n",
       "    .dataframe thead th {\n",
       "        text-align: right;\n",
       "    }\n",
       "</style>\n",
       "<table border=\"1\" class=\"dataframe\">\n",
       "  <thead>\n",
       "    <tr style=\"text-align: right;\">\n",
       "      <th></th>\n",
       "      <th>0</th>\n",
       "      <th>1</th>\n",
       "      <th>2</th>\n",
       "      <th>3</th>\n",
       "      <th>4</th>\n",
       "      <th>5</th>\n",
       "      <th>6</th>\n",
       "      <th>7</th>\n",
       "      <th>8</th>\n",
       "    </tr>\n",
       "  </thead>\n",
       "  <tbody>\n",
       "    <tr>\n",
       "      <th>0</th>\n",
       "      <td>1.291532</td>\n",
       "      <td>-1.138280</td>\n",
       "      <td>0.279088</td>\n",
       "      <td>-0.082455</td>\n",
       "      <td>-0.808245</td>\n",
       "      <td>0.157336</td>\n",
       "      <td>-1.619092</td>\n",
       "      <td>1.902882</td>\n",
       "      <td>-0.679180</td>\n",
       "    </tr>\n",
       "    <tr>\n",
       "      <th>1</th>\n",
       "      <td>-0.538949</td>\n",
       "      <td>-0.479658</td>\n",
       "      <td>-0.097016</td>\n",
       "      <td>0.070837</td>\n",
       "      <td>-0.375369</td>\n",
       "      <td>-0.312347</td>\n",
       "      <td>0.647866</td>\n",
       "      <td>-0.859973</td>\n",
       "      <td>-0.485623</td>\n",
       "    </tr>\n",
       "    <tr>\n",
       "      <th>2</th>\n",
       "      <td>-0.272833</td>\n",
       "      <td>-0.099122</td>\n",
       "      <td>-0.966073</td>\n",
       "      <td>-0.641762</td>\n",
       "      <td>-0.220844</td>\n",
       "      <td>0.789274</td>\n",
       "      <td>0.670423</td>\n",
       "      <td>-0.038404</td>\n",
       "      <td>-0.465376</td>\n",
       "    </tr>\n",
       "    <tr>\n",
       "      <th>3</th>\n",
       "      <td>2.007808</td>\n",
       "      <td>0.775381</td>\n",
       "      <td>-1.448071</td>\n",
       "      <td>-0.165315</td>\n",
       "      <td>-0.585043</td>\n",
       "      <td>1.387054</td>\n",
       "      <td>-1.179234</td>\n",
       "      <td>2.128151</td>\n",
       "      <td>-0.516268</td>\n",
       "    </tr>\n",
       "    <tr>\n",
       "      <th>4</th>\n",
       "      <td>-0.695634</td>\n",
       "      <td>0.160668</td>\n",
       "      <td>-0.286894</td>\n",
       "      <td>0.497568</td>\n",
       "      <td>0.101732</td>\n",
       "      <td>-0.601749</td>\n",
       "      <td>0.704258</td>\n",
       "      <td>-0.541946</td>\n",
       "      <td>-0.041817</td>\n",
       "    </tr>\n",
       "    <tr>\n",
       "      <th>...</th>\n",
       "      <td>...</td>\n",
       "      <td>...</td>\n",
       "      <td>...</td>\n",
       "      <td>...</td>\n",
       "      <td>...</td>\n",
       "      <td>...</td>\n",
       "      <td>...</td>\n",
       "      <td>...</td>\n",
       "      <td>...</td>\n",
       "    </tr>\n",
       "    <tr>\n",
       "      <th>162</th>\n",
       "      <td>-0.225578</td>\n",
       "      <td>0.200917</td>\n",
       "      <td>-0.571711</td>\n",
       "      <td>0.240700</td>\n",
       "      <td>-0.738527</td>\n",
       "      <td>-0.489784</td>\n",
       "      <td>-0.852161</td>\n",
       "      <td>0.365754</td>\n",
       "      <td>-0.546913</td>\n",
       "    </tr>\n",
       "    <tr>\n",
       "      <th>163</th>\n",
       "      <td>-0.526514</td>\n",
       "      <td>-0.461363</td>\n",
       "      <td>-0.695862</td>\n",
       "      <td>-1.213499</td>\n",
       "      <td>-0.033542</td>\n",
       "      <td>3.616865</td>\n",
       "      <td>0.546361</td>\n",
       "      <td>-0.316678</td>\n",
       "      <td>0.029323</td>\n",
       "    </tr>\n",
       "    <tr>\n",
       "      <th>164</th>\n",
       "      <td>-0.372315</td>\n",
       "      <td>1.130305</td>\n",
       "      <td>0.008877</td>\n",
       "      <td>1.380030</td>\n",
       "      <td>-0.658404</td>\n",
       "      <td>0.409732</td>\n",
       "      <td>0.286958</td>\n",
       "      <td>-0.661206</td>\n",
       "      <td>-0.637754</td>\n",
       "    </tr>\n",
       "    <tr>\n",
       "      <th>165</th>\n",
       "      <td>0.448417</td>\n",
       "      <td>-0.406478</td>\n",
       "      <td>-0.597272</td>\n",
       "      <td>-0.517472</td>\n",
       "      <td>-0.658924</td>\n",
       "      <td>1.500916</td>\n",
       "      <td>-0.344633</td>\n",
       "      <td>1.140944</td>\n",
       "      <td>-0.637754</td>\n",
       "    </tr>\n",
       "    <tr>\n",
       "      <th>166</th>\n",
       "      <td>1.114951</td>\n",
       "      <td>-0.150348</td>\n",
       "      <td>-0.338015</td>\n",
       "      <td>-0.662477</td>\n",
       "      <td>-0.721358</td>\n",
       "      <td>0.590015</td>\n",
       "      <td>-2.092785</td>\n",
       "      <td>1.624609</td>\n",
       "      <td>-0.629546</td>\n",
       "    </tr>\n",
       "  </tbody>\n",
       "</table>\n",
       "<p>167 rows × 9 columns</p>\n",
       "</div>"
      ],
      "text/plain": [
       "            0         1         2         3         4         5         6  \\\n",
       "0    1.291532 -1.138280  0.279088 -0.082455 -0.808245  0.157336 -1.619092   \n",
       "1   -0.538949 -0.479658 -0.097016  0.070837 -0.375369 -0.312347  0.647866   \n",
       "2   -0.272833 -0.099122 -0.966073 -0.641762 -0.220844  0.789274  0.670423   \n",
       "3    2.007808  0.775381 -1.448071 -0.165315 -0.585043  1.387054 -1.179234   \n",
       "4   -0.695634  0.160668 -0.286894  0.497568  0.101732 -0.601749  0.704258   \n",
       "..        ...       ...       ...       ...       ...       ...       ...   \n",
       "162 -0.225578  0.200917 -0.571711  0.240700 -0.738527 -0.489784 -0.852161   \n",
       "163 -0.526514 -0.461363 -0.695862 -1.213499 -0.033542  3.616865  0.546361   \n",
       "164 -0.372315  1.130305  0.008877  1.380030 -0.658404  0.409732  0.286958   \n",
       "165  0.448417 -0.406478 -0.597272 -0.517472 -0.658924  1.500916 -0.344633   \n",
       "166  1.114951 -0.150348 -0.338015 -0.662477 -0.721358  0.590015 -2.092785   \n",
       "\n",
       "            7         8  \n",
       "0    1.902882 -0.679180  \n",
       "1   -0.859973 -0.485623  \n",
       "2   -0.038404 -0.465376  \n",
       "3    2.128151 -0.516268  \n",
       "4   -0.541946 -0.041817  \n",
       "..        ...       ...  \n",
       "162  0.365754 -0.546913  \n",
       "163 -0.316678  0.029323  \n",
       "164 -0.661206 -0.637754  \n",
       "165  1.140944 -0.637754  \n",
       "166  1.624609 -0.629546  \n",
       "\n",
       "[167 rows x 9 columns]"
      ]
     },
     "execution_count": 16,
     "metadata": {},
     "output_type": "execute_result"
    }
   ],
   "source": [
    "scaler = StandardScaler()\n",
    "df_std = scaler.fit_transform(df_r1)\n",
    "pd.DataFrame(df_std)"
   ]
  },
  {
   "cell_type": "markdown",
   "metadata": {},
   "source": [
    "## **Modeling**"
   ]
  },
  {
   "cell_type": "code",
   "execution_count": null,
   "metadata": {},
   "outputs": [
    {
     "data": {
      "text/plain": [
       "array([0, 1, 1, 0, 1, 1, 1, 1, 1, 1, 1, 1, 0, 1, 1, 1, 1, 0, 1, 0, 1, 0,\n",
       "       1, 1, 1, 0, 0, 0, 0, 1, 1, 0, 0, 1, 1, 1, 0, 0, 0, 1, 0, 1, 1, 1,\n",
       "       1, 1, 1, 0, 1, 0, 0, 1, 1, 1, 1, 0, 0, 1, 1, 0, 1, 1, 0, 0, 0, 0,\n",
       "       0, 1, 1, 0, 0, 1, 0, 1, 1, 1, 1, 1, 1, 1, 0, 0, 1, 0, 0, 1, 1, 0,\n",
       "       0, 1, 1, 1, 1, 0, 0, 1, 1, 0, 1, 0, 1, 0, 1, 0, 1, 1, 0, 0, 0, 0,\n",
       "       1, 1, 0, 0, 1, 1, 0, 1, 1, 1, 0, 1, 1, 1, 1, 1, 0, 0, 1, 0, 1, 1,\n",
       "       0, 1, 1, 1, 0, 0, 1, 1, 1, 1, 0, 1, 1, 1, 0, 0, 1, 0, 0, 0, 1, 1,\n",
       "       0, 0, 1, 1, 1, 1, 1, 0, 0, 1, 1, 0, 0])"
      ]
     },
     "execution_count": 60,
     "metadata": {},
     "output_type": "execute_result"
    }
   ],
   "source": [
    "model = KMeans(\n",
    "    n_clusters=2, # the number of cluster / category\n",
    "    algorithm='lloyd',\n",
    "    verbose=0,\n",
    "    init='k-means++',\n",
    "    )\n",
    "clusters = model.fit_predict(df_std)\n",
    "clusters"
   ]
  },
  {
   "cell_type": "code",
   "execution_count": 65,
   "metadata": {},
   "outputs": [
    {
     "data": {
      "text/html": [
       "<div>\n",
       "<style scoped>\n",
       "    .dataframe tbody tr th:only-of-type {\n",
       "        vertical-align: middle;\n",
       "    }\n",
       "\n",
       "    .dataframe tbody tr th {\n",
       "        vertical-align: top;\n",
       "    }\n",
       "\n",
       "    .dataframe thead th {\n",
       "        text-align: right;\n",
       "    }\n",
       "</style>\n",
       "<table border=\"1\" class=\"dataframe\">\n",
       "  <thead>\n",
       "    <tr style=\"text-align: right;\">\n",
       "      <th></th>\n",
       "      <th>country</th>\n",
       "      <th>child_mort</th>\n",
       "      <th>exports</th>\n",
       "      <th>health</th>\n",
       "      <th>imports</th>\n",
       "      <th>income</th>\n",
       "      <th>inflation</th>\n",
       "      <th>life_expec</th>\n",
       "      <th>total_fer</th>\n",
       "      <th>gdpp</th>\n",
       "      <th>cluster</th>\n",
       "    </tr>\n",
       "  </thead>\n",
       "  <tbody>\n",
       "    <tr>\n",
       "      <th>0</th>\n",
       "      <td>Afghanistan</td>\n",
       "      <td>90.2</td>\n",
       "      <td>10.0</td>\n",
       "      <td>7.58</td>\n",
       "      <td>44.9</td>\n",
       "      <td>1610</td>\n",
       "      <td>9.440</td>\n",
       "      <td>56.2</td>\n",
       "      <td>5.82</td>\n",
       "      <td>553</td>\n",
       "      <td>0</td>\n",
       "    </tr>\n",
       "    <tr>\n",
       "      <th>1</th>\n",
       "      <td>Albania</td>\n",
       "      <td>16.6</td>\n",
       "      <td>28.0</td>\n",
       "      <td>6.55</td>\n",
       "      <td>48.6</td>\n",
       "      <td>9930</td>\n",
       "      <td>4.490</td>\n",
       "      <td>76.3</td>\n",
       "      <td>1.65</td>\n",
       "      <td>4090</td>\n",
       "      <td>1</td>\n",
       "    </tr>\n",
       "    <tr>\n",
       "      <th>2</th>\n",
       "      <td>Algeria</td>\n",
       "      <td>27.3</td>\n",
       "      <td>38.4</td>\n",
       "      <td>4.17</td>\n",
       "      <td>31.4</td>\n",
       "      <td>12900</td>\n",
       "      <td>16.100</td>\n",
       "      <td>76.5</td>\n",
       "      <td>2.89</td>\n",
       "      <td>4460</td>\n",
       "      <td>1</td>\n",
       "    </tr>\n",
       "    <tr>\n",
       "      <th>3</th>\n",
       "      <td>Angola</td>\n",
       "      <td>119.0</td>\n",
       "      <td>62.3</td>\n",
       "      <td>2.85</td>\n",
       "      <td>42.9</td>\n",
       "      <td>5900</td>\n",
       "      <td>22.400</td>\n",
       "      <td>60.1</td>\n",
       "      <td>6.16</td>\n",
       "      <td>3530</td>\n",
       "      <td>0</td>\n",
       "    </tr>\n",
       "    <tr>\n",
       "      <th>4</th>\n",
       "      <td>Antigua and Barbuda</td>\n",
       "      <td>10.3</td>\n",
       "      <td>45.5</td>\n",
       "      <td>6.03</td>\n",
       "      <td>58.9</td>\n",
       "      <td>19100</td>\n",
       "      <td>1.440</td>\n",
       "      <td>76.8</td>\n",
       "      <td>2.13</td>\n",
       "      <td>12200</td>\n",
       "      <td>1</td>\n",
       "    </tr>\n",
       "    <tr>\n",
       "      <th>5</th>\n",
       "      <td>Argentina</td>\n",
       "      <td>14.5</td>\n",
       "      <td>18.9</td>\n",
       "      <td>8.10</td>\n",
       "      <td>16.0</td>\n",
       "      <td>18700</td>\n",
       "      <td>20.900</td>\n",
       "      <td>75.8</td>\n",
       "      <td>2.37</td>\n",
       "      <td>10300</td>\n",
       "      <td>1</td>\n",
       "    </tr>\n",
       "    <tr>\n",
       "      <th>6</th>\n",
       "      <td>Armenia</td>\n",
       "      <td>18.1</td>\n",
       "      <td>20.8</td>\n",
       "      <td>4.40</td>\n",
       "      <td>45.3</td>\n",
       "      <td>6700</td>\n",
       "      <td>7.770</td>\n",
       "      <td>73.3</td>\n",
       "      <td>1.69</td>\n",
       "      <td>3220</td>\n",
       "      <td>1</td>\n",
       "    </tr>\n",
       "    <tr>\n",
       "      <th>7</th>\n",
       "      <td>Australia</td>\n",
       "      <td>4.8</td>\n",
       "      <td>19.8</td>\n",
       "      <td>8.73</td>\n",
       "      <td>20.9</td>\n",
       "      <td>41400</td>\n",
       "      <td>1.160</td>\n",
       "      <td>82.0</td>\n",
       "      <td>1.93</td>\n",
       "      <td>51900</td>\n",
       "      <td>1</td>\n",
       "    </tr>\n",
       "    <tr>\n",
       "      <th>8</th>\n",
       "      <td>Austria</td>\n",
       "      <td>4.3</td>\n",
       "      <td>51.3</td>\n",
       "      <td>11.00</td>\n",
       "      <td>47.8</td>\n",
       "      <td>43200</td>\n",
       "      <td>0.873</td>\n",
       "      <td>80.5</td>\n",
       "      <td>1.44</td>\n",
       "      <td>46900</td>\n",
       "      <td>1</td>\n",
       "    </tr>\n",
       "    <tr>\n",
       "      <th>9</th>\n",
       "      <td>Azerbaijan</td>\n",
       "      <td>39.2</td>\n",
       "      <td>54.3</td>\n",
       "      <td>5.88</td>\n",
       "      <td>20.7</td>\n",
       "      <td>16000</td>\n",
       "      <td>13.800</td>\n",
       "      <td>69.1</td>\n",
       "      <td>1.92</td>\n",
       "      <td>5840</td>\n",
       "      <td>1</td>\n",
       "    </tr>\n",
       "    <tr>\n",
       "      <th>10</th>\n",
       "      <td>Bahamas</td>\n",
       "      <td>13.8</td>\n",
       "      <td>35.0</td>\n",
       "      <td>7.89</td>\n",
       "      <td>43.7</td>\n",
       "      <td>22900</td>\n",
       "      <td>-0.393</td>\n",
       "      <td>73.8</td>\n",
       "      <td>1.86</td>\n",
       "      <td>28000</td>\n",
       "      <td>1</td>\n",
       "    </tr>\n",
       "    <tr>\n",
       "      <th>11</th>\n",
       "      <td>Bahrain</td>\n",
       "      <td>8.6</td>\n",
       "      <td>69.5</td>\n",
       "      <td>4.97</td>\n",
       "      <td>50.9</td>\n",
       "      <td>41100</td>\n",
       "      <td>7.440</td>\n",
       "      <td>76.0</td>\n",
       "      <td>2.16</td>\n",
       "      <td>20700</td>\n",
       "      <td>1</td>\n",
       "    </tr>\n",
       "    <tr>\n",
       "      <th>12</th>\n",
       "      <td>Bangladesh</td>\n",
       "      <td>49.4</td>\n",
       "      <td>16.0</td>\n",
       "      <td>3.52</td>\n",
       "      <td>21.8</td>\n",
       "      <td>2440</td>\n",
       "      <td>7.140</td>\n",
       "      <td>70.4</td>\n",
       "      <td>2.33</td>\n",
       "      <td>758</td>\n",
       "      <td>0</td>\n",
       "    </tr>\n",
       "    <tr>\n",
       "      <th>13</th>\n",
       "      <td>Barbados</td>\n",
       "      <td>14.2</td>\n",
       "      <td>39.5</td>\n",
       "      <td>7.97</td>\n",
       "      <td>48.7</td>\n",
       "      <td>15300</td>\n",
       "      <td>0.321</td>\n",
       "      <td>76.7</td>\n",
       "      <td>1.78</td>\n",
       "      <td>16000</td>\n",
       "      <td>1</td>\n",
       "    </tr>\n",
       "    <tr>\n",
       "      <th>14</th>\n",
       "      <td>Belarus</td>\n",
       "      <td>5.5</td>\n",
       "      <td>51.4</td>\n",
       "      <td>5.61</td>\n",
       "      <td>64.5</td>\n",
       "      <td>16200</td>\n",
       "      <td>15.100</td>\n",
       "      <td>70.4</td>\n",
       "      <td>1.49</td>\n",
       "      <td>6030</td>\n",
       "      <td>1</td>\n",
       "    </tr>\n",
       "    <tr>\n",
       "      <th>15</th>\n",
       "      <td>Belgium</td>\n",
       "      <td>4.5</td>\n",
       "      <td>76.4</td>\n",
       "      <td>10.70</td>\n",
       "      <td>74.7</td>\n",
       "      <td>41100</td>\n",
       "      <td>1.880</td>\n",
       "      <td>80.0</td>\n",
       "      <td>1.86</td>\n",
       "      <td>44400</td>\n",
       "      <td>1</td>\n",
       "    </tr>\n",
       "    <tr>\n",
       "      <th>16</th>\n",
       "      <td>Belize</td>\n",
       "      <td>18.8</td>\n",
       "      <td>58.2</td>\n",
       "      <td>5.20</td>\n",
       "      <td>57.5</td>\n",
       "      <td>7880</td>\n",
       "      <td>1.140</td>\n",
       "      <td>71.4</td>\n",
       "      <td>2.71</td>\n",
       "      <td>4340</td>\n",
       "      <td>1</td>\n",
       "    </tr>\n",
       "    <tr>\n",
       "      <th>17</th>\n",
       "      <td>Benin</td>\n",
       "      <td>111.0</td>\n",
       "      <td>23.8</td>\n",
       "      <td>4.10</td>\n",
       "      <td>37.2</td>\n",
       "      <td>1820</td>\n",
       "      <td>0.885</td>\n",
       "      <td>61.8</td>\n",
       "      <td>5.36</td>\n",
       "      <td>758</td>\n",
       "      <td>0</td>\n",
       "    </tr>\n",
       "    <tr>\n",
       "      <th>18</th>\n",
       "      <td>Bhutan</td>\n",
       "      <td>42.7</td>\n",
       "      <td>42.5</td>\n",
       "      <td>5.20</td>\n",
       "      <td>70.7</td>\n",
       "      <td>6420</td>\n",
       "      <td>5.990</td>\n",
       "      <td>72.1</td>\n",
       "      <td>2.38</td>\n",
       "      <td>2180</td>\n",
       "      <td>1</td>\n",
       "    </tr>\n",
       "    <tr>\n",
       "      <th>19</th>\n",
       "      <td>Bolivia</td>\n",
       "      <td>46.6</td>\n",
       "      <td>41.2</td>\n",
       "      <td>4.84</td>\n",
       "      <td>34.3</td>\n",
       "      <td>5410</td>\n",
       "      <td>8.780</td>\n",
       "      <td>71.6</td>\n",
       "      <td>3.20</td>\n",
       "      <td>1980</td>\n",
       "      <td>0</td>\n",
       "    </tr>\n",
       "  </tbody>\n",
       "</table>\n",
       "</div>"
      ],
      "text/plain": [
       "                country  child_mort  exports  health  imports  income  \\\n",
       "0           Afghanistan        90.2     10.0    7.58     44.9    1610   \n",
       "1               Albania        16.6     28.0    6.55     48.6    9930   \n",
       "2               Algeria        27.3     38.4    4.17     31.4   12900   \n",
       "3                Angola       119.0     62.3    2.85     42.9    5900   \n",
       "4   Antigua and Barbuda        10.3     45.5    6.03     58.9   19100   \n",
       "5             Argentina        14.5     18.9    8.10     16.0   18700   \n",
       "6               Armenia        18.1     20.8    4.40     45.3    6700   \n",
       "7             Australia         4.8     19.8    8.73     20.9   41400   \n",
       "8               Austria         4.3     51.3   11.00     47.8   43200   \n",
       "9            Azerbaijan        39.2     54.3    5.88     20.7   16000   \n",
       "10              Bahamas        13.8     35.0    7.89     43.7   22900   \n",
       "11              Bahrain         8.6     69.5    4.97     50.9   41100   \n",
       "12           Bangladesh        49.4     16.0    3.52     21.8    2440   \n",
       "13             Barbados        14.2     39.5    7.97     48.7   15300   \n",
       "14              Belarus         5.5     51.4    5.61     64.5   16200   \n",
       "15              Belgium         4.5     76.4   10.70     74.7   41100   \n",
       "16               Belize        18.8     58.2    5.20     57.5    7880   \n",
       "17                Benin       111.0     23.8    4.10     37.2    1820   \n",
       "18               Bhutan        42.7     42.5    5.20     70.7    6420   \n",
       "19              Bolivia        46.6     41.2    4.84     34.3    5410   \n",
       "\n",
       "    inflation  life_expec  total_fer   gdpp  cluster  \n",
       "0       9.440        56.2       5.82    553        0  \n",
       "1       4.490        76.3       1.65   4090        1  \n",
       "2      16.100        76.5       2.89   4460        1  \n",
       "3      22.400        60.1       6.16   3530        0  \n",
       "4       1.440        76.8       2.13  12200        1  \n",
       "5      20.900        75.8       2.37  10300        1  \n",
       "6       7.770        73.3       1.69   3220        1  \n",
       "7       1.160        82.0       1.93  51900        1  \n",
       "8       0.873        80.5       1.44  46900        1  \n",
       "9      13.800        69.1       1.92   5840        1  \n",
       "10     -0.393        73.8       1.86  28000        1  \n",
       "11      7.440        76.0       2.16  20700        1  \n",
       "12      7.140        70.4       2.33    758        0  \n",
       "13      0.321        76.7       1.78  16000        1  \n",
       "14     15.100        70.4       1.49   6030        1  \n",
       "15      1.880        80.0       1.86  44400        1  \n",
       "16      1.140        71.4       2.71   4340        1  \n",
       "17      0.885        61.8       5.36    758        0  \n",
       "18      5.990        72.1       2.38   2180        1  \n",
       "19      8.780        71.6       3.20   1980        0  "
      ]
     },
     "execution_count": 65,
     "metadata": {},
     "output_type": "execute_result"
    }
   ],
   "source": [
    "# adding new cluster (country) to df\n",
    "df['cluster'] = clusters\n",
    "df.head(20)"
   ]
  },
  {
   "cell_type": "markdown",
   "metadata": {},
   "source": [
    "**Visual Check**"
   ]
  },
  {
   "cell_type": "code",
   "execution_count": 63,
   "metadata": {},
   "outputs": [
    {
     "data": {
      "application/vnd.plotly.v1+json": {
       "config": {
        "plotlyServerURL": "https://plot.ly"
       },
       "data": [
        {
         "customdata": [
          [
           "Afghanistan"
          ],
          [
           "Albania"
          ],
          [
           "Algeria"
          ],
          [
           "Angola"
          ],
          [
           "Antigua and Barbuda"
          ],
          [
           "Argentina"
          ],
          [
           "Armenia"
          ],
          [
           "Australia"
          ],
          [
           "Austria"
          ],
          [
           "Azerbaijan"
          ],
          [
           "Bahamas"
          ],
          [
           "Bahrain"
          ],
          [
           "Bangladesh"
          ],
          [
           "Barbados"
          ],
          [
           "Belarus"
          ],
          [
           "Belgium"
          ],
          [
           "Belize"
          ],
          [
           "Benin"
          ],
          [
           "Bhutan"
          ],
          [
           "Bolivia"
          ],
          [
           "Bosnia and Herzegovina"
          ],
          [
           "Botswana"
          ],
          [
           "Brazil"
          ],
          [
           "Brunei"
          ],
          [
           "Bulgaria"
          ],
          [
           "Burkina Faso"
          ],
          [
           "Burundi"
          ],
          [
           "Cambodia"
          ],
          [
           "Cameroon"
          ],
          [
           "Canada"
          ],
          [
           "Cape Verde"
          ],
          [
           "Central African Republic"
          ],
          [
           "Chad"
          ],
          [
           "Chile"
          ],
          [
           "China"
          ],
          [
           "Colombia"
          ],
          [
           "Comoros"
          ],
          [
           "Congo, Dem. Rep."
          ],
          [
           "Congo, Rep."
          ],
          [
           "Costa Rica"
          ],
          [
           "Cote d'Ivoire"
          ],
          [
           "Croatia"
          ],
          [
           "Cyprus"
          ],
          [
           "Czech Republic"
          ],
          [
           "Denmark"
          ],
          [
           "Dominican Republic"
          ],
          [
           "Ecuador"
          ],
          [
           "Egypt"
          ],
          [
           "El Salvador"
          ],
          [
           "Equatorial Guinea"
          ],
          [
           "Eritrea"
          ],
          [
           "Estonia"
          ],
          [
           "Fiji"
          ],
          [
           "Finland"
          ],
          [
           "France"
          ],
          [
           "Gabon"
          ],
          [
           "Gambia"
          ],
          [
           "Georgia"
          ],
          [
           "Germany"
          ],
          [
           "Ghana"
          ],
          [
           "Greece"
          ],
          [
           "Grenada"
          ],
          [
           "Guatemala"
          ],
          [
           "Guinea"
          ],
          [
           "Guinea-Bissau"
          ],
          [
           "Guyana"
          ],
          [
           "Haiti"
          ],
          [
           "Hungary"
          ],
          [
           "Iceland"
          ],
          [
           "India"
          ],
          [
           "Indonesia"
          ],
          [
           "Iran"
          ],
          [
           "Iraq"
          ],
          [
           "Ireland"
          ],
          [
           "Israel"
          ],
          [
           "Italy"
          ],
          [
           "Jamaica"
          ],
          [
           "Japan"
          ],
          [
           "Jordan"
          ],
          [
           "Kazakhstan"
          ],
          [
           "Kenya"
          ],
          [
           "Kiribati"
          ],
          [
           "Kuwait"
          ],
          [
           "Kyrgyz Republic"
          ],
          [
           "Lao"
          ],
          [
           "Latvia"
          ],
          [
           "Lebanon"
          ],
          [
           "Lesotho"
          ],
          [
           "Liberia"
          ],
          [
           "Libya"
          ],
          [
           "Lithuania"
          ],
          [
           "Luxembourg"
          ],
          [
           "Macedonia, FYR"
          ],
          [
           "Madagascar"
          ],
          [
           "Malawi"
          ],
          [
           "Malaysia"
          ],
          [
           "Maldives"
          ],
          [
           "Mali"
          ],
          [
           "Malta"
          ],
          [
           "Mauritania"
          ],
          [
           "Mauritius"
          ],
          [
           "Micronesia, Fed. Sts."
          ],
          [
           "Moldova"
          ],
          [
           "Mongolia"
          ],
          [
           "Montenegro"
          ],
          [
           "Morocco"
          ],
          [
           "Mozambique"
          ],
          [
           "Myanmar"
          ],
          [
           "Namibia"
          ],
          [
           "Nepal"
          ],
          [
           "Netherlands"
          ],
          [
           "New Zealand"
          ],
          [
           "Niger"
          ],
          [
           "Nigeria"
          ],
          [
           "Norway"
          ],
          [
           "Oman"
          ],
          [
           "Pakistan"
          ],
          [
           "Panama"
          ],
          [
           "Paraguay"
          ],
          [
           "Peru"
          ],
          [
           "Philippines"
          ],
          [
           "Poland"
          ],
          [
           "Portugal"
          ],
          [
           "Qatar"
          ],
          [
           "Romania"
          ],
          [
           "Russia"
          ],
          [
           "Rwanda"
          ],
          [
           "Samoa"
          ],
          [
           "Saudi Arabia"
          ],
          [
           "Senegal"
          ],
          [
           "Serbia"
          ],
          [
           "Seychelles"
          ],
          [
           "Sierra Leone"
          ],
          [
           "Singapore"
          ],
          [
           "Slovak Republic"
          ],
          [
           "Slovenia"
          ],
          [
           "Solomon Islands"
          ],
          [
           "South Africa"
          ],
          [
           "South Korea"
          ],
          [
           "Spain"
          ],
          [
           "Sri Lanka"
          ],
          [
           "St. Vincent and the Grenadines"
          ],
          [
           "Sudan"
          ],
          [
           "Suriname"
          ],
          [
           "Sweden"
          ],
          [
           "Switzerland"
          ],
          [
           "Tajikistan"
          ],
          [
           "Tanzania"
          ],
          [
           "Thailand"
          ],
          [
           "Timor-Leste"
          ],
          [
           "Togo"
          ],
          [
           "Tonga"
          ],
          [
           "Tunisia"
          ],
          [
           "Turkey"
          ],
          [
           "Turkmenistan"
          ],
          [
           "Uganda"
          ],
          [
           "Ukraine"
          ],
          [
           "United Arab Emirates"
          ],
          [
           "United Kingdom"
          ],
          [
           "United States"
          ],
          [
           "Uruguay"
          ],
          [
           "Uzbekistan"
          ],
          [
           "Vanuatu"
          ],
          [
           "Venezuela"
          ],
          [
           "Vietnam"
          ],
          [
           "Yemen"
          ],
          [
           "Zambia"
          ]
         ],
         "hovertemplate": "Income=%{x}<br>imports=%{y}<br>country=%{customdata[0]}<br>cluster=%{marker.color}<extra></extra>",
         "legendgroup": "",
         "marker": {
          "color": [
           0,
           1,
           1,
           0,
           1,
           1,
           1,
           1,
           1,
           1,
           1,
           1,
           0,
           1,
           1,
           1,
           1,
           0,
           1,
           0,
           1,
           0,
           1,
           1,
           1,
           0,
           0,
           0,
           0,
           1,
           1,
           0,
           0,
           1,
           1,
           1,
           0,
           0,
           0,
           1,
           0,
           1,
           1,
           1,
           1,
           1,
           1,
           0,
           1,
           0,
           0,
           1,
           1,
           1,
           1,
           0,
           0,
           1,
           1,
           0,
           1,
           1,
           0,
           0,
           0,
           0,
           0,
           1,
           1,
           0,
           0,
           1,
           0,
           1,
           1,
           1,
           1,
           1,
           1,
           1,
           0,
           0,
           1,
           0,
           0,
           1,
           1,
           0,
           0,
           1,
           1,
           1,
           1,
           0,
           0,
           1,
           1,
           0,
           1,
           0,
           1,
           0,
           1,
           0,
           1,
           1,
           0,
           0,
           0,
           0,
           1,
           1,
           0,
           0,
           1,
           1,
           0,
           1,
           1,
           1,
           0,
           1,
           1,
           1,
           1,
           1,
           0,
           0,
           1,
           0,
           1,
           1,
           0,
           1,
           1,
           1,
           0,
           0,
           1,
           1,
           1,
           1,
           0,
           1,
           1,
           1,
           0,
           0,
           1,
           0,
           0,
           0,
           1,
           1,
           0,
           0,
           1,
           1,
           1,
           1,
           1,
           0,
           0,
           1,
           1,
           0,
           0
          ],
          "coloraxis": "coloraxis",
          "symbol": "circle"
         },
         "mode": "markers",
         "name": "",
         "orientation": "v",
         "showlegend": false,
         "type": "scatter",
         "x": [
          1610,
          9930,
          12900,
          5900,
          19100,
          18700,
          6700,
          41400,
          43200,
          16000,
          22900,
          41100,
          2440,
          15300,
          16200,
          41100,
          7880,
          1820,
          6420,
          5410,
          9720,
          13300,
          14500,
          80600,
          15300,
          1430,
          764,
          2520,
          2660,
          40700,
          5830,
          888,
          1930,
          19400,
          9530,
          10900,
          1410,
          609,
          5190,
          13000,
          2690,
          20100,
          33900,
          28300,
          44000,
          11100,
          9350,
          9860,
          7300,
          33700,
          1420,
          22700,
          7350,
          39800,
          36900,
          15400,
          1660,
          6730,
          40400,
          3060,
          28700,
          11200,
          6710,
          1190,
          1390,
          5840,
          1500,
          22300,
          38800,
          4410,
          8430,
          17400,
          12700,
          45700,
          29600,
          36200,
          8000,
          35800,
          9470,
          20100,
          2480,
          1730,
          75200,
          2790,
          3980,
          18300,
          16300,
          2380,
          700,
          29600,
          21100,
          91700,
          11400,
          1390,
          1030,
          21100,
          10500,
          1870,
          28300,
          3320,
          15900,
          3340,
          3910,
          7710,
          14000,
          6440,
          918,
          3720,
          8460,
          1990,
          45500,
          32300,
          814,
          5150,
          62300,
          45300,
          4280,
          15400,
          7290,
          9960,
          5600,
          21800,
          27200,
          125000,
          17800,
          23100,
          1350,
          5400,
          45400,
          2180,
          12700,
          20400,
          1220,
          72100,
          25200,
          28700,
          1780,
          12000,
          30400,
          32500,
          8560,
          9920,
          3370,
          14200,
          42900,
          55500,
          2110,
          2090,
          13500,
          1850,
          1210,
          4980,
          10400,
          18000,
          9940,
          1540,
          7820,
          57600,
          36200,
          49400,
          17100,
          4240,
          2950,
          16500,
          4490,
          4480,
          3280
         ],
         "xaxis": "x",
         "y": [
          44.9,
          48.6,
          31.4,
          42.9,
          58.9,
          16,
          45.3,
          20.9,
          47.8,
          20.7,
          43.7,
          50.9,
          21.8,
          48.7,
          64.5,
          74.7,
          57.5,
          37.2,
          70.7,
          34.3,
          51.3,
          51.3,
          11.8,
          28,
          53,
          29.6,
          39.2,
          59.5,
          27,
          31,
          61.8,
          26.5,
          43.5,
          31.3,
          22.6,
          17.8,
          51.7,
          49.6,
          54.7,
          35,
          43.3,
          38.1,
          57.5,
          62.9,
          43.6,
          33.3,
          32.4,
          26.6,
          46.6,
          58.9,
          23.3,
          68.7,
          63.9,
          37.4,
          28.1,
          18.9,
          42.7,
          52.8,
          37.1,
          45.9,
          30.7,
          49.2,
          36.3,
          43.2,
          35.2,
          79.1,
          64.7,
          76.5,
          43.3,
          27.1,
          22.4,
          19.4,
          34.1,
          86.5,
          32.9,
          27.2,
          49.6,
          13.6,
          69,
          29.9,
          33.6,
          79.9,
          30.4,
          81.7,
          49.3,
          55.1,
          60.2,
          101,
          92.6,
          42.1,
          67.2,
          142,
          58.1,
          43,
          34.9,
          71,
          65.4,
          35.1,
          154,
          61.2,
          62.2,
          81,
          78.5,
          56.7,
          62.7,
          43,
          46.2,
          0.0659,
          60.7,
          36.4,
          63.6,
          28,
          49.1,
          17.4,
          28.5,
          41.2,
          19.4,
          78.2,
          51.5,
          23.8,
          36.6,
          42.1,
          37.4,
          23.8,
          38.8,
          21.1,
          30,
          53.1,
          33,
          40.3,
          47.9,
          108,
          34.5,
          174,
          77.8,
          62.9,
          81.2,
          27.4,
          46.2,
          26.8,
          26.8,
          57.1,
          17.2,
          38.4,
          40.7,
          53.3,
          58.6,
          29.1,
          60.8,
          27.8,
          57.3,
          60.3,
          55.3,
          25.5,
          44.5,
          28.6,
          51.1,
          63.6,
          30.8,
          15.8,
          25.4,
          28.5,
          52.7,
          17.6,
          80.2,
          34.4,
          30.9
         ],
         "yaxis": "y"
        }
       ],
       "layout": {
        "coloraxis": {
         "colorbar": {
          "title": {
           "text": "cluster"
          }
         },
         "colorscale": [
          [
           0,
           "#0d0887"
          ],
          [
           0.1111111111111111,
           "#46039f"
          ],
          [
           0.2222222222222222,
           "#7201a8"
          ],
          [
           0.3333333333333333,
           "#9c179e"
          ],
          [
           0.4444444444444444,
           "#bd3786"
          ],
          [
           0.5555555555555556,
           "#d8576b"
          ],
          [
           0.6666666666666666,
           "#ed7953"
          ],
          [
           0.7777777777777778,
           "#fb9f3a"
          ],
          [
           0.8888888888888888,
           "#fdca26"
          ],
          [
           1,
           "#f0f921"
          ]
         ]
        },
        "legend": {
         "tracegroupgap": 0
        },
        "template": {
         "data": {
          "bar": [
           {
            "error_x": {
             "color": "#2a3f5f"
            },
            "error_y": {
             "color": "#2a3f5f"
            },
            "marker": {
             "line": {
              "color": "#E5ECF6",
              "width": 0.5
             },
             "pattern": {
              "fillmode": "overlay",
              "size": 10,
              "solidity": 0.2
             }
            },
            "type": "bar"
           }
          ],
          "barpolar": [
           {
            "marker": {
             "line": {
              "color": "#E5ECF6",
              "width": 0.5
             },
             "pattern": {
              "fillmode": "overlay",
              "size": 10,
              "solidity": 0.2
             }
            },
            "type": "barpolar"
           }
          ],
          "carpet": [
           {
            "aaxis": {
             "endlinecolor": "#2a3f5f",
             "gridcolor": "white",
             "linecolor": "white",
             "minorgridcolor": "white",
             "startlinecolor": "#2a3f5f"
            },
            "baxis": {
             "endlinecolor": "#2a3f5f",
             "gridcolor": "white",
             "linecolor": "white",
             "minorgridcolor": "white",
             "startlinecolor": "#2a3f5f"
            },
            "type": "carpet"
           }
          ],
          "choropleth": [
           {
            "colorbar": {
             "outlinewidth": 0,
             "ticks": ""
            },
            "type": "choropleth"
           }
          ],
          "contour": [
           {
            "colorbar": {
             "outlinewidth": 0,
             "ticks": ""
            },
            "colorscale": [
             [
              0,
              "#0d0887"
             ],
             [
              0.1111111111111111,
              "#46039f"
             ],
             [
              0.2222222222222222,
              "#7201a8"
             ],
             [
              0.3333333333333333,
              "#9c179e"
             ],
             [
              0.4444444444444444,
              "#bd3786"
             ],
             [
              0.5555555555555556,
              "#d8576b"
             ],
             [
              0.6666666666666666,
              "#ed7953"
             ],
             [
              0.7777777777777778,
              "#fb9f3a"
             ],
             [
              0.8888888888888888,
              "#fdca26"
             ],
             [
              1,
              "#f0f921"
             ]
            ],
            "type": "contour"
           }
          ],
          "contourcarpet": [
           {
            "colorbar": {
             "outlinewidth": 0,
             "ticks": ""
            },
            "type": "contourcarpet"
           }
          ],
          "heatmap": [
           {
            "colorbar": {
             "outlinewidth": 0,
             "ticks": ""
            },
            "colorscale": [
             [
              0,
              "#0d0887"
             ],
             [
              0.1111111111111111,
              "#46039f"
             ],
             [
              0.2222222222222222,
              "#7201a8"
             ],
             [
              0.3333333333333333,
              "#9c179e"
             ],
             [
              0.4444444444444444,
              "#bd3786"
             ],
             [
              0.5555555555555556,
              "#d8576b"
             ],
             [
              0.6666666666666666,
              "#ed7953"
             ],
             [
              0.7777777777777778,
              "#fb9f3a"
             ],
             [
              0.8888888888888888,
              "#fdca26"
             ],
             [
              1,
              "#f0f921"
             ]
            ],
            "type": "heatmap"
           }
          ],
          "heatmapgl": [
           {
            "colorbar": {
             "outlinewidth": 0,
             "ticks": ""
            },
            "colorscale": [
             [
              0,
              "#0d0887"
             ],
             [
              0.1111111111111111,
              "#46039f"
             ],
             [
              0.2222222222222222,
              "#7201a8"
             ],
             [
              0.3333333333333333,
              "#9c179e"
             ],
             [
              0.4444444444444444,
              "#bd3786"
             ],
             [
              0.5555555555555556,
              "#d8576b"
             ],
             [
              0.6666666666666666,
              "#ed7953"
             ],
             [
              0.7777777777777778,
              "#fb9f3a"
             ],
             [
              0.8888888888888888,
              "#fdca26"
             ],
             [
              1,
              "#f0f921"
             ]
            ],
            "type": "heatmapgl"
           }
          ],
          "histogram": [
           {
            "marker": {
             "pattern": {
              "fillmode": "overlay",
              "size": 10,
              "solidity": 0.2
             }
            },
            "type": "histogram"
           }
          ],
          "histogram2d": [
           {
            "colorbar": {
             "outlinewidth": 0,
             "ticks": ""
            },
            "colorscale": [
             [
              0,
              "#0d0887"
             ],
             [
              0.1111111111111111,
              "#46039f"
             ],
             [
              0.2222222222222222,
              "#7201a8"
             ],
             [
              0.3333333333333333,
              "#9c179e"
             ],
             [
              0.4444444444444444,
              "#bd3786"
             ],
             [
              0.5555555555555556,
              "#d8576b"
             ],
             [
              0.6666666666666666,
              "#ed7953"
             ],
             [
              0.7777777777777778,
              "#fb9f3a"
             ],
             [
              0.8888888888888888,
              "#fdca26"
             ],
             [
              1,
              "#f0f921"
             ]
            ],
            "type": "histogram2d"
           }
          ],
          "histogram2dcontour": [
           {
            "colorbar": {
             "outlinewidth": 0,
             "ticks": ""
            },
            "colorscale": [
             [
              0,
              "#0d0887"
             ],
             [
              0.1111111111111111,
              "#46039f"
             ],
             [
              0.2222222222222222,
              "#7201a8"
             ],
             [
              0.3333333333333333,
              "#9c179e"
             ],
             [
              0.4444444444444444,
              "#bd3786"
             ],
             [
              0.5555555555555556,
              "#d8576b"
             ],
             [
              0.6666666666666666,
              "#ed7953"
             ],
             [
              0.7777777777777778,
              "#fb9f3a"
             ],
             [
              0.8888888888888888,
              "#fdca26"
             ],
             [
              1,
              "#f0f921"
             ]
            ],
            "type": "histogram2dcontour"
           }
          ],
          "mesh3d": [
           {
            "colorbar": {
             "outlinewidth": 0,
             "ticks": ""
            },
            "type": "mesh3d"
           }
          ],
          "parcoords": [
           {
            "line": {
             "colorbar": {
              "outlinewidth": 0,
              "ticks": ""
             }
            },
            "type": "parcoords"
           }
          ],
          "pie": [
           {
            "automargin": true,
            "type": "pie"
           }
          ],
          "scatter": [
           {
            "fillpattern": {
             "fillmode": "overlay",
             "size": 10,
             "solidity": 0.2
            },
            "type": "scatter"
           }
          ],
          "scatter3d": [
           {
            "line": {
             "colorbar": {
              "outlinewidth": 0,
              "ticks": ""
             }
            },
            "marker": {
             "colorbar": {
              "outlinewidth": 0,
              "ticks": ""
             }
            },
            "type": "scatter3d"
           }
          ],
          "scattercarpet": [
           {
            "marker": {
             "colorbar": {
              "outlinewidth": 0,
              "ticks": ""
             }
            },
            "type": "scattercarpet"
           }
          ],
          "scattergeo": [
           {
            "marker": {
             "colorbar": {
              "outlinewidth": 0,
              "ticks": ""
             }
            },
            "type": "scattergeo"
           }
          ],
          "scattergl": [
           {
            "marker": {
             "colorbar": {
              "outlinewidth": 0,
              "ticks": ""
             }
            },
            "type": "scattergl"
           }
          ],
          "scattermapbox": [
           {
            "marker": {
             "colorbar": {
              "outlinewidth": 0,
              "ticks": ""
             }
            },
            "type": "scattermapbox"
           }
          ],
          "scatterpolar": [
           {
            "marker": {
             "colorbar": {
              "outlinewidth": 0,
              "ticks": ""
             }
            },
            "type": "scatterpolar"
           }
          ],
          "scatterpolargl": [
           {
            "marker": {
             "colorbar": {
              "outlinewidth": 0,
              "ticks": ""
             }
            },
            "type": "scatterpolargl"
           }
          ],
          "scatterternary": [
           {
            "marker": {
             "colorbar": {
              "outlinewidth": 0,
              "ticks": ""
             }
            },
            "type": "scatterternary"
           }
          ],
          "surface": [
           {
            "colorbar": {
             "outlinewidth": 0,
             "ticks": ""
            },
            "colorscale": [
             [
              0,
              "#0d0887"
             ],
             [
              0.1111111111111111,
              "#46039f"
             ],
             [
              0.2222222222222222,
              "#7201a8"
             ],
             [
              0.3333333333333333,
              "#9c179e"
             ],
             [
              0.4444444444444444,
              "#bd3786"
             ],
             [
              0.5555555555555556,
              "#d8576b"
             ],
             [
              0.6666666666666666,
              "#ed7953"
             ],
             [
              0.7777777777777778,
              "#fb9f3a"
             ],
             [
              0.8888888888888888,
              "#fdca26"
             ],
             [
              1,
              "#f0f921"
             ]
            ],
            "type": "surface"
           }
          ],
          "table": [
           {
            "cells": {
             "fill": {
              "color": "#EBF0F8"
             },
             "line": {
              "color": "white"
             }
            },
            "header": {
             "fill": {
              "color": "#C8D4E3"
             },
             "line": {
              "color": "white"
             }
            },
            "type": "table"
           }
          ]
         },
         "layout": {
          "annotationdefaults": {
           "arrowcolor": "#2a3f5f",
           "arrowhead": 0,
           "arrowwidth": 1
          },
          "autotypenumbers": "strict",
          "coloraxis": {
           "colorbar": {
            "outlinewidth": 0,
            "ticks": ""
           }
          },
          "colorscale": {
           "diverging": [
            [
             0,
             "#8e0152"
            ],
            [
             0.1,
             "#c51b7d"
            ],
            [
             0.2,
             "#de77ae"
            ],
            [
             0.3,
             "#f1b6da"
            ],
            [
             0.4,
             "#fde0ef"
            ],
            [
             0.5,
             "#f7f7f7"
            ],
            [
             0.6,
             "#e6f5d0"
            ],
            [
             0.7,
             "#b8e186"
            ],
            [
             0.8,
             "#7fbc41"
            ],
            [
             0.9,
             "#4d9221"
            ],
            [
             1,
             "#276419"
            ]
           ],
           "sequential": [
            [
             0,
             "#0d0887"
            ],
            [
             0.1111111111111111,
             "#46039f"
            ],
            [
             0.2222222222222222,
             "#7201a8"
            ],
            [
             0.3333333333333333,
             "#9c179e"
            ],
            [
             0.4444444444444444,
             "#bd3786"
            ],
            [
             0.5555555555555556,
             "#d8576b"
            ],
            [
             0.6666666666666666,
             "#ed7953"
            ],
            [
             0.7777777777777778,
             "#fb9f3a"
            ],
            [
             0.8888888888888888,
             "#fdca26"
            ],
            [
             1,
             "#f0f921"
            ]
           ],
           "sequentialminus": [
            [
             0,
             "#0d0887"
            ],
            [
             0.1111111111111111,
             "#46039f"
            ],
            [
             0.2222222222222222,
             "#7201a8"
            ],
            [
             0.3333333333333333,
             "#9c179e"
            ],
            [
             0.4444444444444444,
             "#bd3786"
            ],
            [
             0.5555555555555556,
             "#d8576b"
            ],
            [
             0.6666666666666666,
             "#ed7953"
            ],
            [
             0.7777777777777778,
             "#fb9f3a"
            ],
            [
             0.8888888888888888,
             "#fdca26"
            ],
            [
             1,
             "#f0f921"
            ]
           ]
          },
          "colorway": [
           "#636efa",
           "#EF553B",
           "#00cc96",
           "#ab63fa",
           "#FFA15A",
           "#19d3f3",
           "#FF6692",
           "#B6E880",
           "#FF97FF",
           "#FECB52"
          ],
          "font": {
           "color": "#2a3f5f"
          },
          "geo": {
           "bgcolor": "white",
           "lakecolor": "white",
           "landcolor": "#E5ECF6",
           "showlakes": true,
           "showland": true,
           "subunitcolor": "white"
          },
          "hoverlabel": {
           "align": "left"
          },
          "hovermode": "closest",
          "mapbox": {
           "style": "light"
          },
          "paper_bgcolor": "white",
          "plot_bgcolor": "#E5ECF6",
          "polar": {
           "angularaxis": {
            "gridcolor": "white",
            "linecolor": "white",
            "ticks": ""
           },
           "bgcolor": "#E5ECF6",
           "radialaxis": {
            "gridcolor": "white",
            "linecolor": "white",
            "ticks": ""
           }
          },
          "scene": {
           "xaxis": {
            "backgroundcolor": "#E5ECF6",
            "gridcolor": "white",
            "gridwidth": 2,
            "linecolor": "white",
            "showbackground": true,
            "ticks": "",
            "zerolinecolor": "white"
           },
           "yaxis": {
            "backgroundcolor": "#E5ECF6",
            "gridcolor": "white",
            "gridwidth": 2,
            "linecolor": "white",
            "showbackground": true,
            "ticks": "",
            "zerolinecolor": "white"
           },
           "zaxis": {
            "backgroundcolor": "#E5ECF6",
            "gridcolor": "white",
            "gridwidth": 2,
            "linecolor": "white",
            "showbackground": true,
            "ticks": "",
            "zerolinecolor": "white"
           }
          },
          "shapedefaults": {
           "line": {
            "color": "#2a3f5f"
           }
          },
          "ternary": {
           "aaxis": {
            "gridcolor": "white",
            "linecolor": "white",
            "ticks": ""
           },
           "baxis": {
            "gridcolor": "white",
            "linecolor": "white",
            "ticks": ""
           },
           "bgcolor": "#E5ECF6",
           "caxis": {
            "gridcolor": "white",
            "linecolor": "white",
            "ticks": ""
           }
          },
          "title": {
           "x": 0.05
          },
          "xaxis": {
           "automargin": true,
           "gridcolor": "white",
           "linecolor": "white",
           "ticks": "",
           "title": {
            "standoff": 15
           },
           "zerolinecolor": "white",
           "zerolinewidth": 2
          },
          "yaxis": {
           "automargin": true,
           "gridcolor": "white",
           "linecolor": "white",
           "ticks": "",
           "title": {
            "standoff": 15
           },
           "zerolinecolor": "white",
           "zerolinewidth": 2
          }
         }
        },
        "title": {
         "text": "Clustered Countries"
        },
        "xaxis": {
         "anchor": "y",
         "domain": [
          0,
          1
         ],
         "title": {
          "text": "Income"
         }
        },
        "yaxis": {
         "anchor": "x",
         "domain": [
          0,
          1
         ],
         "title": {
          "text": "imports"
         }
        }
       }
      }
     },
     "metadata": {},
     "output_type": "display_data"
    }
   ],
   "source": [
    "# Create an interactive scatter plot\n",
    "fig = px.scatter(df, x='income', y='imports', color='cluster',\n",
    "                 hover_data=['country'],\n",
    "                 title='Clustered Countries',\n",
    "                 labels={'income': 'Income', 'child_mort': 'Child Mortality'})\n",
    "\n",
    "fig.show()"
   ]
  },
  {
   "cell_type": "markdown",
   "metadata": {},
   "source": [
    "By understanding the visualise above, we understand which countries should be in priority to get an aid."
   ]
  }
 ],
 "metadata": {
  "kernelspec": {
   "display_name": "Python 3",
   "language": "python",
   "name": "python3"
  },
  "language_info": {
   "codemirror_mode": {
    "name": "ipython",
    "version": 3
   },
   "file_extension": ".py",
   "mimetype": "text/x-python",
   "name": "python",
   "nbconvert_exporter": "python",
   "pygments_lexer": "ipython3",
   "version": "3.12.7"
  }
 },
 "nbformat": 4,
 "nbformat_minor": 2
}
